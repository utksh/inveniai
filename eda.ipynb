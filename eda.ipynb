{
 "cells": [
  {
   "cell_type": "code",
   "execution_count": 3,
   "id": "5bd7f35e-18d2-4678-bcd9-aab83583663c",
   "metadata": {
    "tags": []
   },
   "outputs": [],
   "source": [
    "import pandas as pd\n",
    "import numpy as np\n",
    "import matplotlib.pyplot as plt\n",
    "import seaborn as sns\n",
    "import string\n",
    "import re\n",
    "from sklearn.feature_extraction.text import TfidfVectorizer\n",
    "from sklearn.decomposition import PCA\n",
    "from sklearn.linear_model import LogisticRegression\n",
    "from sklearn.model_selection import train_test_split\n",
    "\n",
    "from sklearn.metrics import confusion_matrix\n",
    "from sklearn.metrics import classification_report\n",
    "from sklearn.manifold import TSNE\n",
    "\n",
    "from nltk.tokenize import word_tokenize\n",
    "from nltk.tokenize import sent_tokenize\n",
    "from nltk.stem import WordNetLemmatizer "
   ]
  },
  {
   "cell_type": "code",
   "execution_count": 15,
   "id": "b4c81c00-39d1-447b-947e-8b29441604bd",
   "metadata": {
    "tags": []
   },
   "outputs": [
    {
     "name": "stderr",
     "output_type": "stream",
     "text": [
      "[nltk_data] Downloading package punkt to\n",
      "[nltk_data]     C:\\Users\\Utkarsh\\AppData\\Roaming\\nltk_data...\n",
      "[nltk_data]   Package punkt is already up-to-date!\n",
      "[nltk_data] Downloading package wordnet to\n",
      "[nltk_data]     C:\\Users\\Utkarsh\\AppData\\Roaming\\nltk_data...\n"
     ]
    },
    {
     "data": {
      "text/plain": [
       "True"
      ]
     },
     "execution_count": 15,
     "metadata": {},
     "output_type": "execute_result"
    }
   ],
   "source": [
    "import nltk\n",
    "nltk.download('punkt')\n",
    "nltk.download('wordnet')"
   ]
  },
  {
   "cell_type": "code",
   "execution_count": 5,
   "id": "303431c2-9558-49a4-a72a-7885275f501a",
   "metadata": {
    "tags": []
   },
   "outputs": [],
   "source": [
    "df = pd.read_csv(\"medical_Data.csv\", index_col= False)"
   ]
  },
  {
   "cell_type": "code",
   "execution_count": 6,
   "id": "395b1b40-9ba3-439d-803e-9c1def61d8e8",
   "metadata": {
    "tags": []
   },
   "outputs": [
    {
     "data": {
      "text/html": [
       "<div>\n",
       "<style scoped>\n",
       "    .dataframe tbody tr th:only-of-type {\n",
       "        vertical-align: middle;\n",
       "    }\n",
       "\n",
       "    .dataframe tbody tr th {\n",
       "        vertical-align: top;\n",
       "    }\n",
       "\n",
       "    .dataframe thead th {\n",
       "        text-align: right;\n",
       "    }\n",
       "</style>\n",
       "<table border=\"1\" class=\"dataframe\">\n",
       "  <thead>\n",
       "    <tr style=\"text-align: right;\">\n",
       "      <th></th>\n",
       "      <th>class</th>\n",
       "      <th>description</th>\n",
       "    </tr>\n",
       "  </thead>\n",
       "  <tbody>\n",
       "    <tr>\n",
       "      <th>0</th>\n",
       "      <td>4</td>\n",
       "      <td>Catheterization laboratory events and hospital...</td>\n",
       "    </tr>\n",
       "    <tr>\n",
       "      <th>1</th>\n",
       "      <td>5</td>\n",
       "      <td>Renal abscess in children. Three cases of rena...</td>\n",
       "    </tr>\n",
       "    <tr>\n",
       "      <th>2</th>\n",
       "      <td>2</td>\n",
       "      <td>Hyperplastic polyps seen at sigmoidoscopy are ...</td>\n",
       "    </tr>\n",
       "    <tr>\n",
       "      <th>3</th>\n",
       "      <td>5</td>\n",
       "      <td>Subclavian artery to innominate vein fistula a...</td>\n",
       "    </tr>\n",
       "    <tr>\n",
       "      <th>4</th>\n",
       "      <td>4</td>\n",
       "      <td>Effect of local inhibition of gamma-aminobutyr...</td>\n",
       "    </tr>\n",
       "  </tbody>\n",
       "</table>\n",
       "</div>"
      ],
      "text/plain": [
       "   class                                        description\n",
       "0      4  Catheterization laboratory events and hospital...\n",
       "1      5  Renal abscess in children. Three cases of rena...\n",
       "2      2  Hyperplastic polyps seen at sigmoidoscopy are ...\n",
       "3      5  Subclavian artery to innominate vein fistula a...\n",
       "4      4  Effect of local inhibition of gamma-aminobutyr..."
      ]
     },
     "execution_count": 6,
     "metadata": {},
     "output_type": "execute_result"
    }
   ],
   "source": [
    "df.head()"
   ]
  },
  {
   "cell_type": "code",
   "execution_count": 8,
   "id": "99e2e4af-1473-493d-9193-1fc90bb86da0",
   "metadata": {
    "tags": []
   },
   "outputs": [
    {
     "data": {
      "text/plain": [
       "class\n",
       "5    4805\n",
       "1    3163\n",
       "4    3051\n",
       "3    1925\n",
       "2    1494\n",
       "Name: count, dtype: int64"
      ]
     },
     "execution_count": 8,
     "metadata": {},
     "output_type": "execute_result"
    }
   ],
   "source": [
    "df[\"class\"].value_counts()"
   ]
  },
  {
   "cell_type": "code",
   "execution_count": 9,
   "id": "defad5b6-d6d9-40ce-8aed-6e5cedfb76b2",
   "metadata": {
    "tags": []
   },
   "outputs": [],
   "source": [
    "def get_sentence_word_count(text_list):\n",
    "    sent_count = 0\n",
    "    word_count = 0\n",
    "    vocab = {}\n",
    "    for text in text_list:\n",
    "        sentences=sent_tokenize(str(text).lower())\n",
    "        sent_count = sent_count + len(sentences)\n",
    "        for sentence in sentences:\n",
    "            words=word_tokenize(sentence)\n",
    "            for word in words:\n",
    "                if(word in vocab.keys()):\n",
    "                    vocab[word] = vocab[word] +1\n",
    "                else:\n",
    "                    vocab[word] =1 \n",
    "    word_count = len(vocab.keys())\n",
    "    return sent_count,word_count"
   ]
  },
  {
   "cell_type": "code",
   "execution_count": 11,
   "id": "0abdde6b-bdd5-47bf-9cf3-255b27da47d2",
   "metadata": {
    "tags": []
   },
   "outputs": [
    {
     "name": "stdout",
     "output_type": "stream",
     "text": [
      "Number of sentences in description column: 122404\n",
      "Number of unique words in description column: 54889\n",
      "===========Different health condition =======================\n",
      "Cat:1 1 : 3163\n",
      "Cat:2 2 : 1494\n",
      "Cat:3 3 : 1925\n",
      "Cat:4 4 : 3051\n",
      "Cat:5 5 : 4805\n",
      "==================================\n"
     ]
    }
   ],
   "source": [
    "df = df[df['description'].notna()]\n",
    "sent_count,word_count= get_sentence_word_count(df['description'].tolist())\n",
    "print(\"Number of sentences in description column: \"+ str(sent_count))\n",
    "print(\"Number of unique words in description column: \"+str(word_count))\n",
    "\n",
    "\n",
    "\n",
    "data_categories  = df.groupby(df['class'])\n",
    "i = 1\n",
    "print('===========Different health condition =======================')\n",
    "for catName,dataCategory in data_categories:\n",
    "    print('Cat:'+str(i)+' '+str(catName) + ' : '+ str(len(dataCategory)) )\n",
    "    i = i+1\n",
    "print('==================================')"
   ]
  },
  {
   "cell_type": "code",
   "execution_count": 13,
   "id": "015a41d6-18ad-40d6-8d04-e61c376200c3",
   "metadata": {
    "tags": []
   },
   "outputs": [],
   "source": [
    "def clean_text(text ): \n",
    "    text = text.translate(str.maketrans('', '', string.punctuation))\n",
    "    text1 = ''.join([w for w in text if not w.isdigit()]) \n",
    "    REPLACE_BY_SPACE_RE = re.compile('[/(){}\\[\\]\\|@,;]')\n",
    "    #BAD_SYMBOLS_RE = re.compile('[^0-9a-z #+_]')\n",
    "    \n",
    "    text2 = text1.lower()\n",
    "    text2 = REPLACE_BY_SPACE_RE.sub('', text2) # replace REPLACE_BY_SPACE_RE symbols by space in text\n",
    "    #text2 = BAD_SYMBOLS_RE.sub('', text2)\n",
    "    return text2\n",
    "\n",
    "def lemmatize_text(text):\n",
    "    wordlist=[]\n",
    "    lemmatizer = WordNetLemmatizer() \n",
    "    sentences=sent_tokenize(text)\n",
    "    \n",
    "    intial_sentences= sentences[0:1]\n",
    "    final_sentences = sentences[len(sentences)-2: len(sentences)-1]\n",
    "    \n",
    "    for sentence in intial_sentences:\n",
    "        words=word_tokenize(sentence)\n",
    "        for word in words:\n",
    "            wordlist.append(lemmatizer.lemmatize(word))\n",
    "    for sentence in final_sentences:\n",
    "        words=word_tokenize(sentence)\n",
    "        for word in words:\n",
    "            wordlist.append(lemmatizer.lemmatize(word))       \n",
    "    return ' '.join(wordlist) "
   ]
  },
  {
   "cell_type": "code",
   "execution_count": 18,
   "id": "04cb005e-4bc1-42e3-9ad9-9531cc1158b4",
   "metadata": {
    "tags": []
   },
   "outputs": [
    {
     "name": "stdout",
     "output_type": "stream",
     "text": [
      "Sample description 1:infection during chronic epidural catheterization  diagnosis and treatment  it wa concluded that use of longterm epidural catheterization is associated with a definable epidural infection rate \n",
      "\n",
      "Sample description 2:comparison of collagen propeptides a growth marker in child with inflammatory bowel disease  these observation indicate that the serum concentration of both collagen propeptides reflect growth activity in child with inflammatory bowel disease and suggest that routine measurement of collagen propeptides may have clinical value in monitoring normal and abnormal growth \n",
      "\n",
      "Sample description 3:histologic abnormality of large and small coronary artery  neural structure  and the conduction system of the heart found in postmortem study of individual dying from the toxic oil syndrome  based upon observation by others with experimental feeding of rapeseed oil containing either high or low erucic acid  we suggest that this oil must remain a major suspected cause of the toxic oil syndrome  particularly in conjunction with some a yet unexplained facilitative influence by oleoanilids \n"
     ]
    }
   ],
   "source": [
    "print('Sample description 1:'+df.iloc[5]['description']+'\\n')\n",
    "print('Sample description 2:'+df.iloc[125]['description']+'\\n')\n",
    "print('Sample description 3:'+df.iloc[1000]['description'])"
   ]
  },
  {
   "cell_type": "code",
   "execution_count": 16,
   "id": "7ecf03ef-94c0-422e-8171-b7dea59e2ba1",
   "metadata": {},
   "outputs": [],
   "source": [
    "df['description'] = df['description'].apply(lemmatize_text)\n",
    "df['description'] = df['description'].apply(clean_text)"
   ]
  },
  {
   "cell_type": "code",
   "execution_count": 19,
   "id": "5a830718-00d2-4b7d-bbaa-fc00f86db048",
   "metadata": {
    "tags": []
   },
   "outputs": [
    {
     "name": "stdout",
     "output_type": "stream",
     "text": [
      "Sample description 1:infection during chronic epidural catheterization  diagnosis and treatment  it wa concluded that use of longterm epidural catheterization is associated with a definable epidural infection rate \n",
      "\n",
      "Sample description 2:comparison of collagen propeptides a growth marker in child with inflammatory bowel disease  these observation indicate that the serum concentration of both collagen propeptides reflect growth activity in child with inflammatory bowel disease and suggest that routine measurement of collagen propeptides may have clinical value in monitoring normal and abnormal growth \n",
      "\n",
      "Sample description 3:histologic abnormality of large and small coronary artery  neural structure  and the conduction system of the heart found in postmortem study of individual dying from the toxic oil syndrome  based upon observation by others with experimental feeding of rapeseed oil containing either high or low erucic acid  we suggest that this oil must remain a major suspected cause of the toxic oil syndrome  particularly in conjunction with some a yet unexplained facilitative influence by oleoanilids \n"
     ]
    }
   ],
   "source": [
    "print('Sample description 1:'+df.iloc[5]['description']+'\\n')\n",
    "print('Sample description 2:'+df.iloc[125]['description']+'\\n')\n",
    "print('Sample description 3:'+df.iloc[1000]['description'])"
   ]
  },
  {
   "cell_type": "code",
   "execution_count": 22,
   "id": "0e180c10-9ff7-44d3-8216-ff19daef04fe",
   "metadata": {
    "tags": []
   },
   "outputs": [
    {
     "name": "stdout",
     "output_type": "stream",
     "text": [
      "['abdominal', 'ability', 'abnormal', 'abnormality', 'abscess', 'absence', 'accuracy', 'achieved', 'acid', 'acquired', 'action', 'activation', 'active', 'activity', 'acute', 'acute myocardial', 'acute myocardial infarction', 'addition', 'additional', 'adenocarcinoma', 'adenoma', 'adjuvant', 'administration', 'adult', 'advanced', 'adverse', 'affect', 'affected', 'age', 'agent', 'aggressive', 'aids', 'airway', 'alcohol', 'alpha', 'alteration', 'altered', 'analysis', 'anastomosis', 'andor', 'aneurysm', 'angina', 'angiographic', 'angiography', 'angioplasty', 'animal', 'antagonist', 'anterior', 'antibiotic', 'antibody', 'antigen', 'aorta', 'aortic', 'appear', 'appearance', 'appeared', 'appears', 'approach', 'appropriate', 'area', 'arrest', 'arrhythmia', 'arterial', 'artery', 'artery bypass', 'artery disease', 'arthritis', 'arthroplasty', 'ascites', 'aspect', 'aspiration', 'assessment', 'associated', 'association', 'asymptomatic', 'atrial', 'atrial fibrillation', 'atrophy', 'author', 'available', 'average', 'background', 'bacterial', 'balloon', 'basal', 'based', 'baseline', 'behavior', 'benefit', 'benign', 'best', 'beta', 'better', 'bilateral', 'bile', 'biliary', 'binding', 'biopsy', 'bladder', 'bleeding', 'block', 'blocker', 'blood', 'blood flow', 'blood pressure', 'body', 'bone', 'bone marrow', 'bowel', 'brain', 'breast', 'breast cancer', 'bypass', 'ca', 'calcium', 'cancer', 'cancer patient', 'carcinoma', 'cardiac', 'cardiac arrest', 'cardiomyopathy', 'cardiopulmonary', 'cardiovascular', 'care', 'carotid', 'carotid artery', 'case', 'case report', 'catheter', 'cause', 'caused', 'causing', 'cd', 'cell', 'cell carcinoma', 'cell line', 'cellular', 'cent', 'central', 'central nervous', 'cerebellar', 'cerebral', 'cerebrospinal', 'cerebrospinal fluid', 'cervical', 'change', 'characteristic', 'characterization', 'chemotherapy', 'chest', 'chest pain', 'child', 'childhood', 'cholesterol', 'chromosome', 'chronic', 'circulation', 'cirrhosis', 'class', 'classification', 'clearance', 'clinical', 'clinically', 'cm', 'colitis', 'colon', 'colonic', 'colorectal', 'combination', 'combined', 'common', 'comparable', 'compared', 'comparison', 'complete', 'complex', 'complicated', 'complication', 'component', 'compression', 'computed', 'computed tomography', 'concentration', 'conclude', 'concluded', 'conclusion', 'conclusions', 'condition', 'confirmed', 'congenital', 'congestive', 'congestive heart', 'congestive heart failure', 'considered', 'consistent', 'content', 'continuous', 'contrast', 'control', 'control group', 'controlled', 'conventional', 'cord', 'coronary', 'coronary angioplasty', 'coronary artery', 'coronary artery bypass', 'coronary artery disease', 'correlate', 'correlated', 'correlation', 'count', 'course', 'criterion', 'critical', 'crohn', 'crohn disease', 'ct', 'culture', 'current', 'cutaneous', 'cyst', 'cystic', 'damage', 'data', 'data suggest', 'day', 'death', 'decrease', 'decreased', 'deep', 'defect', 'deficiency', 'deficit', 'degree', 'delayed', 'deletion', 'dementia', 'demonstrate', 'demonstrated', 'depression', 'described', 'despite', 'detected', 'detection', 'determine', 'developed', 'development', 'device', 'diabetes', 'diabetic', 'diagnosed', 'diagnosis', 'diagnostic', 'diameter', 'diarrhea', 'diastolic', 'did', 'died', 'dietary', 'difference', 'different', 'differential', 'differentiation', 'diffuse', 'dilatation', 'direct', 'discharge', 'discussed', 'disease', 'disorder', 'dissection', 'distal', 'distribution', 'dna', 'documented', 'doe', 'dog', 'doppler', 'dos', 'dose', 'drainage', 'drug', 'duct', 'duodenal', 'duration', 'dysfunction', 'early', 'echocardiographic', 'echocardiography', 'edema', 'effect', 'effective', 'effects', 'efficacy', 'elderly', 'elevated', 'embolism', 'embolization', 'emergency', 'endocarditis', 'endoscopic', 'endothelial', 'enhanced', 'enzyme', 'epidural', 'epilepsy', 'episode', 'epithelial', 'equal', 'erratum', 'erratum appears', 'esophageal', 'esophagus', 'especially', 'essential', 'evaluated', 'evaluation', 'event', 'evidence', 'examination', 'excellent', 'exercise', 'experience', 'experienced', 'experimental', 'exposure', 'expression', 'extensive', 'extent', 'eye', 'facial', 'factor', 'failed', 'failure', 'family', 'fat', 'fatal', 'feature', 'female', 'femoral', 'fetal', 'fibrillation', 'fibrosis', 'finding', 'fistula', 'flap', 'flow', 'fluid', 'followed', 'following', 'followup', 'form', 'formation', 'fraction', 'fracture', 'free', 'frequency', 'frequently', 'function', 'functional', 'furthermore', 'gallbladder', 'gastric', 'gastrointestinal', 'gene', 'general', 'genetic', 'giant', 'given', 'gland', 'glucose', 'good', 'grade', 'graft', 'greater', 'group', 'group patient', 'growth', 'growth factor', 'ha', 'head', 'head neck', 'headache', 'healing', 'health', 'healthy', 'heart', 'heart disease', 'heart failure', 'heart rate', 'hematoma', 'hemodynamic', 'hemorrhage', 'heparin', 'hepatic', 'hepatitis', 'hepatitis virus', 'hepatocellular', 'hepatocellular carcinoma', 'hg', 'high', 'highdose', 'higher', 'highly', 'hip', 'histologic', 'histological', 'history', 'hiv', 'hormone', 'hospital', 'hour', 'human', 'human immunodeficiency', 'hyperplasia', 'hypertension', 'hypertensive', 'hypertrophy', 'hypotension', 'hypoxia', 'identification', 'identified', 'idiopathic', 'ii', 'iii', 'il', 'illness', 'image', 'imaging', 'immune', 'immunodeficiency', 'immunohistochemical', 'impact', 'impaired', 'impairment', 'implication', 'importance', 'important', 'improved', 'improvement', 'incidence', 'include', 'included', 'including', 'increase', 'increased', 'increasing', 'independent', 'index', 'indicate', 'indicated', 'individual', 'induced', 'induction', 'infant', 'infarct', 'infarction', 'infection', 'inferior', 'inflammation', 'inflammatory', 'influence', 'information', 'infusion', 'inhibition', 'inhibitor', 'initial', 'injection', 'injury', 'insulin', 'interaction', 'interferon', 'interleukin', 'internal', 'interval', 'intervention', 'intestinal', 'intracranial', 'intraoperative', 'intravenous', 'invasive', 'investigation', 'involved', 'involvement', 'ischemia', 'ischemic', 'isolated', 'iv', 'joint', 'kidney', 'knee', 'laboratory', 'lack', 'large', 'laser', 'late', 'later', 'lateral', 'le', 'lead', 'left', 'left ventricular', 'length', 'lesion', 'leukemia', 'leukocyte', 'level', 'life', 'likely', 'limb', 'limited', 'line', 'lipid', 'literature', 'liver', 'liver transplantation', 'local', 'location', 'locus', 'long', 'longterm', 'loss', 'low', 'lower', 'lung', 'lung cancer', 'lymph', 'lymph node', 'lymphocyte', 'lymphoma', 'magnetic', 'magnetic resonance', 'magnetic resonance imaging', 'major', 'male', 'malignancy', 'malignant', 'man', 'management', 'manifestation', 'marked', 'marker', 'marrow', 'mass', 'mean', 'measure', 'measured', 'measurement', 'mechanical', 'mechanism', 'median', 'medical', 'medication', 'medium', 'melanoma', 'membrane', 'men', 'meningitis', 'mental', 'metabolic', 'metabolism', 'metastasis', 'metastatic', 'method', 'migraine', 'mild', 'min', 'minimal', 'minute', 'mitral', 'mitral valve', 'mm', 'mm hg', 'model', 'moderate', 'molecular', 'monitoring', 'monoclonal', 'monoclonal antibody', 'month', 'morbidity', 'mortality', 'motor', 'mouse', 'mr', 'mri', 'mucosa', 'mucosal', 'multiple', 'muscle', 'mutation', 'myocardial', 'myocardial infarction', 'myocardial ischemia', 'natural', 'necessary', 'neck', 'necrosis', 'need', 'negative', 'neoplasm', 'nerve', 'nervous', 'neurologic', 'neuropathy', 'neutrophil', 'new', 'node', 'normal', 'noted', 'nuclear', 'number', 'objective', 'observation', 'observed', 'obstruction', 'obstructive', 'obtained', 'occlusion', 'occur', 'occurred', 'occurrence', 'older', 'onset', 'operation', 'operative', 'oral', 'organ', 'origin', 'outcome', 'ovarian', 'overall', 'oxygen', 'pain', 'palsy', 'pancreatic', 'pancreatitis', 'parameter', 'partial', 'particularly', 'patency', 'pathologic', 'pathology', 'patient', 'patient chronic', 'patient treated', 'patient undergoing', 'patient wa', 'patients', 'pattern', 'peak', 'pediatric', 'pelvic', 'percent', 'percutaneous', 'perforation', 'performance', 'performed', 'perfusion', 'period', 'peripheral', 'peritonitis', 'persistent', 'person', 'ph', 'phase', 'physical', 'physician', 'pituitary', 'placebo', 'plasma', 'platelet', 'point', 'polyp', 'poor', 'population', 'portal', 'positive', 'possible', 'posterior', 'postoperative', 'potential', 'practice', 'predictive', 'predictor', 'pregnancy', 'preliminary', 'preoperative', 'presence', 'present', 'presentation', 'presented', 'presenting', 'pressure', 'prevalence', 'prevent', 'prevention', 'previous', 'previously', 'primary', 'prior', 'probably', 'problem', 'procedure', 'process', 'produce', 'produced', 'product', 'production', 'profile', 'prognosis', 'prognostic', 'progression', 'progressive', 'proliferation', 'prolonged', 'prophylaxis', 'prospective', 'prospective study', 'prostate', 'protein', 'protocol', 'provide', 'proximal', 'published', 'published erratum', 'published erratum appears', 'pulmonary', 'pylorus', 'quality', 'quantitative', 'rabbit', 'radiation', 'radical', 'radiotherapy', 'randomized', 'range', 'rapid', 'rare', 'rat', 'rate', 'rate wa', 'ratio', 'reaction', 'received', 'receiving', 'recent', 'receptor', 'recombinant', 'reconstruction', 'recovery', 'rectal', 'recurrence', 'recurrent', 'reduced', 'reduction', 'reflux', 'regimen', 'region', 'regional', 'regression', 'regurgitation', 'relapse', 'related', 'relation', 'relationship', 'relative', 'release', 'relief', 'remained', 'remaining', 'removal', 'renal', 'repair', 'repeat', 'reperfusion', 'replacement', 'report', 'report case', 'reported', 'required', 'resection', 'residual', 'resistance', 'resonance', 'resonance imaging', 'respectively', 'respiratory', 'response', 'restenosis', 'result', 'result suggest', 'resulted', 'resulting', 'results', 'retinal', 'revealed', 'review', 'review literature', 'reviewed', 'right', 'risk', 'risk factor', 'role', 'rupture', 'safe', 'safety', 'sample', 'sarcoma', 'scan', 'sclerosis', 'score', 'screening', 'second', 'secondary', 'secretion', 'section', 'seen', 'segment', 'seizure', 'selected', 'selective', 'sensitive', 'sensitivity', 'sequence', 'series', 'serum', 'seven', 'severe', 'severity', 'sex', 'shock', 'short', 'showed', 'shown', 'shunt', 'sign', 'significance', 'significant', 'significant difference', 'significantly', 'significantly higher', 'similar', 'simple', 'single', 'sinus', 'site', 'situ', 'size', 'skin', 'sleep', 'small', 'smoking', 'sodium', 'specific', 'specificity', 'specimen', 'sphincter', 'spinal', 'spinal cord', 'spontaneous', 'squamous', 'squamous cell', 'squamous cell carcinoma', 'stable', 'stage', 'standard', 'state', 'statistically', 'statistically significant', 'status', 'stenosis', 'stimulation', 'stone', 'stress', 'stroke', 'structure', 'studied', 'study', 'subarachnoid', 'subject', 'subsequent', 'successful', 'successfully', 'sudden', 'suggest', 'suggested', 'suggests', 'superior', 'support', 'surface', 'surgery', 'surgical', 'surgical treatment', 'survival', 'survival rate', 'survivor', 'susceptibility', 'suspected', 'sustained', 'symptom', 'symptomatic', 'syndrome', 'synthesis', 'systemic', 'systolic', 'tachycardia', 'tcell', 'technique', 'temporal', 'test', 'testing', 'thallium', 'therapeutic', 'therapy', 'thoracic', 'thrombosis', 'thrombus', 'thyroid', 'time', 'tissue', 'tomography', 'total', 'toxicity', 'tract', 'transesophageal', 'transfusion', 'transient', 'transluminal', 'transplant', 'transplantation', 'trauma', 'traumatic', 'treated', 'treatment', 'trial', 'tumor', 'tumor cell', 'tumour', 'type', 'ulcer', 'ulcerative', 'ulcerative colitis', 'ultrasonography', 'ultrasound', 'undergoing', 'underwent', 'unit', 'unusual', 'upper', 'uptake', 'urinary', 'use', 'used', 'useful', 'using', 'usually', 'value', 'valve', 'variable', 'variation', 'various', 'vascular', 'vasculitis', 'vein', 'velocity', 'venous', 'ventricle', 'ventricular', 'ventricular tachycardia', 'versus', 'vessel', 'viral', 'virus', 'virus infection', 'visual', 'vitamin', 'vitro', 'vivo', 'volume', 'vs', 'wa', 'wa associated', 'wa observed', 'wa performed', 'wa significant', 'wa significantly', 'wall', 'wave', 'week', 'weight', 'white', 'woman', 'wound', 'year', 'year age', 'yearold', 'young', 'younger']\n"
     ]
    }
   ],
   "source": [
    "vectorizer = TfidfVectorizer(analyzer='word', stop_words='english',ngram_range=(1,3), max_df=0.75, use_idf=True, smooth_idf=True, max_features=1000)\n",
    "tfIdfMat  = vectorizer.fit_transform(df['description'].tolist() )\n",
    "feature_names = sorted(vectorizer.vocabulary_.keys())\n",
    "print(feature_names)"
   ]
  },
  {
   "cell_type": "code",
   "execution_count": 25,
   "id": "bed18e40-77fc-4cb1-83de-7a231bad0f42",
   "metadata": {
    "tags": []
   },
   "outputs": [
    {
     "name": "stderr",
     "output_type": "stream",
     "text": [
      "C:\\Users\\Utkarsh\\AppData\\Local\\Temp\\ipykernel_13012\\724343365.py:9: UserWarning: \n",
      "The palette list has fewer values (21) than needed (11226) and will cycle, which may produce an uninterpretable plot.\n",
      "  sns.scatterplot(\n"
     ]
    },
    {
     "ename": "ValueError",
     "evalue": "Image size of 7929x235153 pixels is too large. It must be less than 2^16 in each direction.",
     "output_type": "error",
     "traceback": [
      "\u001b[1;31m---------------------------------------------------------------------------\u001b[0m",
      "\u001b[1;31mValueError\u001b[0m                                Traceback (most recent call last)",
      "File \u001b[1;32m~\\invenai\\env\\Lib\\site-packages\\IPython\\core\\formatters.py:340\u001b[0m, in \u001b[0;36mBaseFormatter.__call__\u001b[1;34m(self, obj)\u001b[0m\n\u001b[0;32m    338\u001b[0m     \u001b[38;5;28;01mpass\u001b[39;00m\n\u001b[0;32m    339\u001b[0m \u001b[38;5;28;01melse\u001b[39;00m:\n\u001b[1;32m--> 340\u001b[0m     \u001b[38;5;28;01mreturn\u001b[39;00m \u001b[43mprinter\u001b[49m\u001b[43m(\u001b[49m\u001b[43mobj\u001b[49m\u001b[43m)\u001b[49m\n\u001b[0;32m    341\u001b[0m \u001b[38;5;66;03m# Finally look for special method names\u001b[39;00m\n\u001b[0;32m    342\u001b[0m method \u001b[38;5;241m=\u001b[39m get_real_method(obj, \u001b[38;5;28mself\u001b[39m\u001b[38;5;241m.\u001b[39mprint_method)\n",
      "File \u001b[1;32m~\\invenai\\env\\Lib\\site-packages\\IPython\\core\\pylabtools.py:152\u001b[0m, in \u001b[0;36mprint_figure\u001b[1;34m(fig, fmt, bbox_inches, base64, **kwargs)\u001b[0m\n\u001b[0;32m    149\u001b[0m     \u001b[38;5;28;01mfrom\u001b[39;00m \u001b[38;5;21;01mmatplotlib\u001b[39;00m\u001b[38;5;21;01m.\u001b[39;00m\u001b[38;5;21;01mbackend_bases\u001b[39;00m \u001b[38;5;28;01mimport\u001b[39;00m FigureCanvasBase\n\u001b[0;32m    150\u001b[0m     FigureCanvasBase(fig)\n\u001b[1;32m--> 152\u001b[0m \u001b[43mfig\u001b[49m\u001b[38;5;241;43m.\u001b[39;49m\u001b[43mcanvas\u001b[49m\u001b[38;5;241;43m.\u001b[39;49m\u001b[43mprint_figure\u001b[49m\u001b[43m(\u001b[49m\u001b[43mbytes_io\u001b[49m\u001b[43m,\u001b[49m\u001b[43m \u001b[49m\u001b[38;5;241;43m*\u001b[39;49m\u001b[38;5;241;43m*\u001b[39;49m\u001b[43mkw\u001b[49m\u001b[43m)\u001b[49m\n\u001b[0;32m    153\u001b[0m data \u001b[38;5;241m=\u001b[39m bytes_io\u001b[38;5;241m.\u001b[39mgetvalue()\n\u001b[0;32m    154\u001b[0m \u001b[38;5;28;01mif\u001b[39;00m fmt \u001b[38;5;241m==\u001b[39m \u001b[38;5;124m'\u001b[39m\u001b[38;5;124msvg\u001b[39m\u001b[38;5;124m'\u001b[39m:\n",
      "File \u001b[1;32m~\\invenai\\env\\Lib\\site-packages\\matplotlib\\backend_bases.py:2366\u001b[0m, in \u001b[0;36mFigureCanvasBase.print_figure\u001b[1;34m(self, filename, dpi, facecolor, edgecolor, orientation, format, bbox_inches, pad_inches, bbox_extra_artists, backend, **kwargs)\u001b[0m\n\u001b[0;32m   2362\u001b[0m \u001b[38;5;28;01mtry\u001b[39;00m:\n\u001b[0;32m   2363\u001b[0m     \u001b[38;5;66;03m# _get_renderer may change the figure dpi (as vector formats\u001b[39;00m\n\u001b[0;32m   2364\u001b[0m     \u001b[38;5;66;03m# force the figure dpi to 72), so we need to set it again here.\u001b[39;00m\n\u001b[0;32m   2365\u001b[0m     \u001b[38;5;28;01mwith\u001b[39;00m cbook\u001b[38;5;241m.\u001b[39m_setattr_cm(\u001b[38;5;28mself\u001b[39m\u001b[38;5;241m.\u001b[39mfigure, dpi\u001b[38;5;241m=\u001b[39mdpi):\n\u001b[1;32m-> 2366\u001b[0m         result \u001b[38;5;241m=\u001b[39m \u001b[43mprint_method\u001b[49m\u001b[43m(\u001b[49m\n\u001b[0;32m   2367\u001b[0m \u001b[43m            \u001b[49m\u001b[43mfilename\u001b[49m\u001b[43m,\u001b[49m\n\u001b[0;32m   2368\u001b[0m \u001b[43m            \u001b[49m\u001b[43mfacecolor\u001b[49m\u001b[38;5;241;43m=\u001b[39;49m\u001b[43mfacecolor\u001b[49m\u001b[43m,\u001b[49m\n\u001b[0;32m   2369\u001b[0m \u001b[43m            \u001b[49m\u001b[43medgecolor\u001b[49m\u001b[38;5;241;43m=\u001b[39;49m\u001b[43medgecolor\u001b[49m\u001b[43m,\u001b[49m\n\u001b[0;32m   2370\u001b[0m \u001b[43m            \u001b[49m\u001b[43morientation\u001b[49m\u001b[38;5;241;43m=\u001b[39;49m\u001b[43morientation\u001b[49m\u001b[43m,\u001b[49m\n\u001b[0;32m   2371\u001b[0m \u001b[43m            \u001b[49m\u001b[43mbbox_inches_restore\u001b[49m\u001b[38;5;241;43m=\u001b[39;49m\u001b[43m_bbox_inches_restore\u001b[49m\u001b[43m,\u001b[49m\n\u001b[0;32m   2372\u001b[0m \u001b[43m            \u001b[49m\u001b[38;5;241;43m*\u001b[39;49m\u001b[38;5;241;43m*\u001b[39;49m\u001b[43mkwargs\u001b[49m\u001b[43m)\u001b[49m\n\u001b[0;32m   2373\u001b[0m \u001b[38;5;28;01mfinally\u001b[39;00m:\n\u001b[0;32m   2374\u001b[0m     \u001b[38;5;28;01mif\u001b[39;00m bbox_inches \u001b[38;5;129;01mand\u001b[39;00m restore_bbox:\n",
      "File \u001b[1;32m~\\invenai\\env\\Lib\\site-packages\\matplotlib\\backend_bases.py:2232\u001b[0m, in \u001b[0;36mFigureCanvasBase._switch_canvas_and_return_print_method.<locals>.<lambda>\u001b[1;34m(*args, **kwargs)\u001b[0m\n\u001b[0;32m   2228\u001b[0m     optional_kws \u001b[38;5;241m=\u001b[39m {  \u001b[38;5;66;03m# Passed by print_figure for other renderers.\u001b[39;00m\n\u001b[0;32m   2229\u001b[0m         \u001b[38;5;124m\"\u001b[39m\u001b[38;5;124mdpi\u001b[39m\u001b[38;5;124m\"\u001b[39m, \u001b[38;5;124m\"\u001b[39m\u001b[38;5;124mfacecolor\u001b[39m\u001b[38;5;124m\"\u001b[39m, \u001b[38;5;124m\"\u001b[39m\u001b[38;5;124medgecolor\u001b[39m\u001b[38;5;124m\"\u001b[39m, \u001b[38;5;124m\"\u001b[39m\u001b[38;5;124morientation\u001b[39m\u001b[38;5;124m\"\u001b[39m,\n\u001b[0;32m   2230\u001b[0m         \u001b[38;5;124m\"\u001b[39m\u001b[38;5;124mbbox_inches_restore\u001b[39m\u001b[38;5;124m\"\u001b[39m}\n\u001b[0;32m   2231\u001b[0m     skip \u001b[38;5;241m=\u001b[39m optional_kws \u001b[38;5;241m-\u001b[39m {\u001b[38;5;241m*\u001b[39minspect\u001b[38;5;241m.\u001b[39msignature(meth)\u001b[38;5;241m.\u001b[39mparameters}\n\u001b[1;32m-> 2232\u001b[0m     print_method \u001b[38;5;241m=\u001b[39m functools\u001b[38;5;241m.\u001b[39mwraps(meth)(\u001b[38;5;28;01mlambda\u001b[39;00m \u001b[38;5;241m*\u001b[39margs, \u001b[38;5;241m*\u001b[39m\u001b[38;5;241m*\u001b[39mkwargs: \u001b[43mmeth\u001b[49m\u001b[43m(\u001b[49m\n\u001b[0;32m   2233\u001b[0m \u001b[43m        \u001b[49m\u001b[38;5;241;43m*\u001b[39;49m\u001b[43margs\u001b[49m\u001b[43m,\u001b[49m\u001b[43m \u001b[49m\u001b[38;5;241;43m*\u001b[39;49m\u001b[38;5;241;43m*\u001b[39;49m\u001b[43m{\u001b[49m\u001b[43mk\u001b[49m\u001b[43m:\u001b[49m\u001b[43m \u001b[49m\u001b[43mv\u001b[49m\u001b[43m \u001b[49m\u001b[38;5;28;43;01mfor\u001b[39;49;00m\u001b[43m \u001b[49m\u001b[43mk\u001b[49m\u001b[43m,\u001b[49m\u001b[43m \u001b[49m\u001b[43mv\u001b[49m\u001b[43m \u001b[49m\u001b[38;5;129;43;01min\u001b[39;49;00m\u001b[43m \u001b[49m\u001b[43mkwargs\u001b[49m\u001b[38;5;241;43m.\u001b[39;49m\u001b[43mitems\u001b[49m\u001b[43m(\u001b[49m\u001b[43m)\u001b[49m\u001b[43m \u001b[49m\u001b[38;5;28;43;01mif\u001b[39;49;00m\u001b[43m \u001b[49m\u001b[43mk\u001b[49m\u001b[43m \u001b[49m\u001b[38;5;129;43;01mnot\u001b[39;49;00m\u001b[43m \u001b[49m\u001b[38;5;129;43;01min\u001b[39;49;00m\u001b[43m \u001b[49m\u001b[43mskip\u001b[49m\u001b[43m}\u001b[49m\u001b[43m)\u001b[49m)\n\u001b[0;32m   2234\u001b[0m \u001b[38;5;28;01melse\u001b[39;00m:  \u001b[38;5;66;03m# Let third-parties do as they see fit.\u001b[39;00m\n\u001b[0;32m   2235\u001b[0m     print_method \u001b[38;5;241m=\u001b[39m meth\n",
      "File \u001b[1;32m~\\invenai\\env\\Lib\\site-packages\\matplotlib\\backends\\backend_agg.py:509\u001b[0m, in \u001b[0;36mFigureCanvasAgg.print_png\u001b[1;34m(self, filename_or_obj, metadata, pil_kwargs)\u001b[0m\n\u001b[0;32m    462\u001b[0m \u001b[38;5;28;01mdef\u001b[39;00m \u001b[38;5;21mprint_png\u001b[39m(\u001b[38;5;28mself\u001b[39m, filename_or_obj, \u001b[38;5;241m*\u001b[39m, metadata\u001b[38;5;241m=\u001b[39m\u001b[38;5;28;01mNone\u001b[39;00m, pil_kwargs\u001b[38;5;241m=\u001b[39m\u001b[38;5;28;01mNone\u001b[39;00m):\n\u001b[0;32m    463\u001b[0m \u001b[38;5;250m    \u001b[39m\u001b[38;5;124;03m\"\"\"\u001b[39;00m\n\u001b[0;32m    464\u001b[0m \u001b[38;5;124;03m    Write the figure to a PNG file.\u001b[39;00m\n\u001b[0;32m    465\u001b[0m \n\u001b[1;32m   (...)\u001b[0m\n\u001b[0;32m    507\u001b[0m \u001b[38;5;124;03m        *metadata*, including the default 'Software' key.\u001b[39;00m\n\u001b[0;32m    508\u001b[0m \u001b[38;5;124;03m    \"\"\"\u001b[39;00m\n\u001b[1;32m--> 509\u001b[0m     \u001b[38;5;28;43mself\u001b[39;49m\u001b[38;5;241;43m.\u001b[39;49m\u001b[43m_print_pil\u001b[49m\u001b[43m(\u001b[49m\u001b[43mfilename_or_obj\u001b[49m\u001b[43m,\u001b[49m\u001b[43m \u001b[49m\u001b[38;5;124;43m\"\u001b[39;49m\u001b[38;5;124;43mpng\u001b[39;49m\u001b[38;5;124;43m\"\u001b[39;49m\u001b[43m,\u001b[49m\u001b[43m \u001b[49m\u001b[43mpil_kwargs\u001b[49m\u001b[43m,\u001b[49m\u001b[43m \u001b[49m\u001b[43mmetadata\u001b[49m\u001b[43m)\u001b[49m\n",
      "File \u001b[1;32m~\\invenai\\env\\Lib\\site-packages\\matplotlib\\backends\\backend_agg.py:457\u001b[0m, in \u001b[0;36mFigureCanvasAgg._print_pil\u001b[1;34m(self, filename_or_obj, fmt, pil_kwargs, metadata)\u001b[0m\n\u001b[0;32m    452\u001b[0m \u001b[38;5;28;01mdef\u001b[39;00m \u001b[38;5;21m_print_pil\u001b[39m(\u001b[38;5;28mself\u001b[39m, filename_or_obj, fmt, pil_kwargs, metadata\u001b[38;5;241m=\u001b[39m\u001b[38;5;28;01mNone\u001b[39;00m):\n\u001b[0;32m    453\u001b[0m \u001b[38;5;250m    \u001b[39m\u001b[38;5;124;03m\"\"\"\u001b[39;00m\n\u001b[0;32m    454\u001b[0m \u001b[38;5;124;03m    Draw the canvas, then save it using `.image.imsave` (to which\u001b[39;00m\n\u001b[0;32m    455\u001b[0m \u001b[38;5;124;03m    *pil_kwargs* and *metadata* are forwarded).\u001b[39;00m\n\u001b[0;32m    456\u001b[0m \u001b[38;5;124;03m    \"\"\"\u001b[39;00m\n\u001b[1;32m--> 457\u001b[0m     \u001b[43mFigureCanvasAgg\u001b[49m\u001b[38;5;241;43m.\u001b[39;49m\u001b[43mdraw\u001b[49m\u001b[43m(\u001b[49m\u001b[38;5;28;43mself\u001b[39;49m\u001b[43m)\u001b[49m\n\u001b[0;32m    458\u001b[0m     mpl\u001b[38;5;241m.\u001b[39mimage\u001b[38;5;241m.\u001b[39mimsave(\n\u001b[0;32m    459\u001b[0m         filename_or_obj, \u001b[38;5;28mself\u001b[39m\u001b[38;5;241m.\u001b[39mbuffer_rgba(), \u001b[38;5;28mformat\u001b[39m\u001b[38;5;241m=\u001b[39mfmt, origin\u001b[38;5;241m=\u001b[39m\u001b[38;5;124m\"\u001b[39m\u001b[38;5;124mupper\u001b[39m\u001b[38;5;124m\"\u001b[39m,\n\u001b[0;32m    460\u001b[0m         dpi\u001b[38;5;241m=\u001b[39m\u001b[38;5;28mself\u001b[39m\u001b[38;5;241m.\u001b[39mfigure\u001b[38;5;241m.\u001b[39mdpi, metadata\u001b[38;5;241m=\u001b[39mmetadata, pil_kwargs\u001b[38;5;241m=\u001b[39mpil_kwargs)\n",
      "File \u001b[1;32m~\\invenai\\env\\Lib\\site-packages\\matplotlib\\backends\\backend_agg.py:394\u001b[0m, in \u001b[0;36mFigureCanvasAgg.draw\u001b[1;34m(self)\u001b[0m\n\u001b[0;32m    392\u001b[0m \u001b[38;5;28;01mdef\u001b[39;00m \u001b[38;5;21mdraw\u001b[39m(\u001b[38;5;28mself\u001b[39m):\n\u001b[0;32m    393\u001b[0m     \u001b[38;5;66;03m# docstring inherited\u001b[39;00m\n\u001b[1;32m--> 394\u001b[0m     \u001b[38;5;28mself\u001b[39m\u001b[38;5;241m.\u001b[39mrenderer \u001b[38;5;241m=\u001b[39m \u001b[38;5;28;43mself\u001b[39;49m\u001b[38;5;241;43m.\u001b[39;49m\u001b[43mget_renderer\u001b[49m\u001b[43m(\u001b[49m\u001b[43m)\u001b[49m\n\u001b[0;32m    395\u001b[0m     \u001b[38;5;28mself\u001b[39m\u001b[38;5;241m.\u001b[39mrenderer\u001b[38;5;241m.\u001b[39mclear()\n\u001b[0;32m    396\u001b[0m     \u001b[38;5;66;03m# Acquire a lock on the shared font cache.\u001b[39;00m\n",
      "File \u001b[1;32m~\\invenai\\env\\Lib\\site-packages\\matplotlib\\_api\\deprecation.py:384\u001b[0m, in \u001b[0;36mdelete_parameter.<locals>.wrapper\u001b[1;34m(*inner_args, **inner_kwargs)\u001b[0m\n\u001b[0;32m    379\u001b[0m \u001b[38;5;129m@functools\u001b[39m\u001b[38;5;241m.\u001b[39mwraps(func)\n\u001b[0;32m    380\u001b[0m \u001b[38;5;28;01mdef\u001b[39;00m \u001b[38;5;21mwrapper\u001b[39m(\u001b[38;5;241m*\u001b[39minner_args, \u001b[38;5;241m*\u001b[39m\u001b[38;5;241m*\u001b[39minner_kwargs):\n\u001b[0;32m    381\u001b[0m     \u001b[38;5;28;01mif\u001b[39;00m \u001b[38;5;28mlen\u001b[39m(inner_args) \u001b[38;5;241m<\u001b[39m\u001b[38;5;241m=\u001b[39m name_idx \u001b[38;5;129;01mand\u001b[39;00m name \u001b[38;5;129;01mnot\u001b[39;00m \u001b[38;5;129;01min\u001b[39;00m inner_kwargs:\n\u001b[0;32m    382\u001b[0m         \u001b[38;5;66;03m# Early return in the simple, non-deprecated case (much faster than\u001b[39;00m\n\u001b[0;32m    383\u001b[0m         \u001b[38;5;66;03m# calling bind()).\u001b[39;00m\n\u001b[1;32m--> 384\u001b[0m         \u001b[38;5;28;01mreturn\u001b[39;00m \u001b[43mfunc\u001b[49m\u001b[43m(\u001b[49m\u001b[38;5;241;43m*\u001b[39;49m\u001b[43minner_args\u001b[49m\u001b[43m,\u001b[49m\u001b[43m \u001b[49m\u001b[38;5;241;43m*\u001b[39;49m\u001b[38;5;241;43m*\u001b[39;49m\u001b[43minner_kwargs\u001b[49m\u001b[43m)\u001b[49m\n\u001b[0;32m    385\u001b[0m     arguments \u001b[38;5;241m=\u001b[39m signature\u001b[38;5;241m.\u001b[39mbind(\u001b[38;5;241m*\u001b[39minner_args, \u001b[38;5;241m*\u001b[39m\u001b[38;5;241m*\u001b[39minner_kwargs)\u001b[38;5;241m.\u001b[39marguments\n\u001b[0;32m    386\u001b[0m     \u001b[38;5;28;01mif\u001b[39;00m is_varargs \u001b[38;5;129;01mand\u001b[39;00m arguments\u001b[38;5;241m.\u001b[39mget(name):\n",
      "File \u001b[1;32m~\\invenai\\env\\Lib\\site-packages\\matplotlib\\backends\\backend_agg.py:411\u001b[0m, in \u001b[0;36mFigureCanvasAgg.get_renderer\u001b[1;34m(self, cleared)\u001b[0m\n\u001b[0;32m    409\u001b[0m reuse_renderer \u001b[38;5;241m=\u001b[39m (\u001b[38;5;28mself\u001b[39m\u001b[38;5;241m.\u001b[39m_lastKey \u001b[38;5;241m==\u001b[39m key)\n\u001b[0;32m    410\u001b[0m \u001b[38;5;28;01mif\u001b[39;00m \u001b[38;5;129;01mnot\u001b[39;00m reuse_renderer:\n\u001b[1;32m--> 411\u001b[0m     \u001b[38;5;28mself\u001b[39m\u001b[38;5;241m.\u001b[39mrenderer \u001b[38;5;241m=\u001b[39m \u001b[43mRendererAgg\u001b[49m\u001b[43m(\u001b[49m\u001b[43mw\u001b[49m\u001b[43m,\u001b[49m\u001b[43m \u001b[49m\u001b[43mh\u001b[49m\u001b[43m,\u001b[49m\u001b[43m \u001b[49m\u001b[38;5;28;43mself\u001b[39;49m\u001b[38;5;241;43m.\u001b[39;49m\u001b[43mfigure\u001b[49m\u001b[38;5;241;43m.\u001b[39;49m\u001b[43mdpi\u001b[49m\u001b[43m)\u001b[49m\n\u001b[0;32m    412\u001b[0m     \u001b[38;5;28mself\u001b[39m\u001b[38;5;241m.\u001b[39m_lastKey \u001b[38;5;241m=\u001b[39m key\n\u001b[0;32m    413\u001b[0m \u001b[38;5;28;01melif\u001b[39;00m cleared:\n",
      "File \u001b[1;32m~\\invenai\\env\\Lib\\site-packages\\matplotlib\\backends\\backend_agg.py:84\u001b[0m, in \u001b[0;36mRendererAgg.__init__\u001b[1;34m(self, width, height, dpi)\u001b[0m\n\u001b[0;32m     82\u001b[0m \u001b[38;5;28mself\u001b[39m\u001b[38;5;241m.\u001b[39mwidth \u001b[38;5;241m=\u001b[39m width\n\u001b[0;32m     83\u001b[0m \u001b[38;5;28mself\u001b[39m\u001b[38;5;241m.\u001b[39mheight \u001b[38;5;241m=\u001b[39m height\n\u001b[1;32m---> 84\u001b[0m \u001b[38;5;28mself\u001b[39m\u001b[38;5;241m.\u001b[39m_renderer \u001b[38;5;241m=\u001b[39m \u001b[43m_RendererAgg\u001b[49m\u001b[43m(\u001b[49m\u001b[38;5;28;43mint\u001b[39;49m\u001b[43m(\u001b[49m\u001b[43mwidth\u001b[49m\u001b[43m)\u001b[49m\u001b[43m,\u001b[49m\u001b[43m \u001b[49m\u001b[38;5;28;43mint\u001b[39;49m\u001b[43m(\u001b[49m\u001b[43mheight\u001b[49m\u001b[43m)\u001b[49m\u001b[43m,\u001b[49m\u001b[43m \u001b[49m\u001b[43mdpi\u001b[49m\u001b[43m)\u001b[49m\n\u001b[0;32m     85\u001b[0m \u001b[38;5;28mself\u001b[39m\u001b[38;5;241m.\u001b[39m_filter_renderers \u001b[38;5;241m=\u001b[39m []\n\u001b[0;32m     87\u001b[0m \u001b[38;5;28mself\u001b[39m\u001b[38;5;241m.\u001b[39m_update_methods()\n",
      "\u001b[1;31mValueError\u001b[0m: Image size of 7929x235153 pixels is too large. It must be less than 2^16 in each direction."
     ]
    },
    {
     "data": {
      "text/plain": [
       "<Figure size 1600x1000 with 1 Axes>"
      ]
     },
     "metadata": {},
     "output_type": "display_data"
    }
   ],
   "source": [
    "import gc\n",
    "gc.collect()\n",
    "tfIdfMatrix = tfIdfMat.todense()\n",
    "labels = df['description'].tolist()\n",
    "\n",
    "tsne_results = TSNE(n_components=2,init='random',random_state=0, perplexity=40).fit_transform(np.asarray(tfIdfMatrix))\n",
    "plt.figure(figsize=(16,10))\n",
    "palette = sns.hls_palette(21, l=.6, s=.9)\n",
    "sns.scatterplot(\n",
    "    x=tsne_results[:,0], y=tsne_results[:,1],\n",
    "    hue=labels,\n",
    "    palette= palette,\n",
    "    legend=\"full\",\n",
    "    alpha=0.3\n",
    ")\n",
    "plt.show()"
   ]
  },
  {
   "cell_type": "code",
   "execution_count": null,
   "id": "b76e260f-ca5b-4bea-9d24-3b83f7286da0",
   "metadata": {},
   "outputs": [],
   "source": []
  }
 ],
 "metadata": {
  "kernelspec": {
   "display_name": "Python 3 (ipykernel)",
   "language": "python",
   "name": "python3"
  },
  "language_info": {
   "codemirror_mode": {
    "name": "ipython",
    "version": 3
   },
   "file_extension": ".py",
   "mimetype": "text/x-python",
   "name": "python",
   "nbconvert_exporter": "python",
   "pygments_lexer": "ipython3",
   "version": "3.11.2"
  }
 },
 "nbformat": 4,
 "nbformat_minor": 5
}
